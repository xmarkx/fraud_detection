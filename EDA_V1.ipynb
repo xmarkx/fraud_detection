{
 "cells": [
  {
   "cell_type": "code",
   "execution_count": 1,
   "id": "7fa8d6d9",
   "metadata": {},
   "outputs": [],
   "source": [
    "import numpy as np\n",
    "import pandas as pd\n",
    "import matplotlib.pyplot as plt\n",
    "#import streamlit as st\n",
    "\n",
    "import seaborn as sns\n",
    "import gc"
   ]
  },
  {
   "cell_type": "code",
   "execution_count": 2,
   "id": "c118d9cf",
   "metadata": {},
   "outputs": [],
   "source": [
    "#Getting the data\n",
    "\n",
    "raw_data = pd.read_csv(r\"C:\\Users\\katar\\OneDrive\\Dokumenty\\Edukacja\\Data Science\\6_DS_Project\\Project\\02_Data\\Fraud.csv\")"
   ]
  },
  {
   "cell_type": "markdown",
   "id": "36f7f5e2",
   "metadata": {},
   "source": [
    "#### Content\n",
    "Data for the case is available in CSV format having 6362620 rows and 10 columns.\n",
    "\n",
    "#### Data Dictionary:\n",
    "\n",
    "*step* - maps a unit of time in the real world. In this case 1 step is 1 hour of time. Total steps 744 (30 days simulation).\n",
    "\n",
    "*type* - CASH-IN, CASH-OUT, DEBIT, PAYMENT and TRANSFER.\n",
    "\n",
    "*amount* - amount of the transaction in local currency.\n",
    "\n",
    "*nameOrig* - customer who started the transaction\n",
    "\n",
    "*oldbalanceOrg* - initial balance before the transaction\n",
    "\n",
    "*newbalanceOrig* - new balance after the transaction\n",
    "\n",
    "*nameDest* - customer who is the recipient of the transaction\n",
    "\n",
    "*oldbalanceDest* - initial balance recipient before the transaction. Note that there is not information for customers that start with M (Merchants).\n",
    "\n",
    "*newbalanceDest* - new balance recipient after the transaction. Note that there is not information for customers that start with M (Merchants).\n",
    "\n",
    "*isFraud* - This is the transactions made by the fraudulent agents inside the simulation. In this specific dataset the fraudulent behavior of the agents aims to profit by taking control or customers accounts and try to empty the funds by transferring to another account and then cashing out of the system.\n",
    "\n",
    "*isFlaggedFraud* - The business model aims to control massive transfers from one account to another and flags illegal attempts. An illegal attempt in this dataset is an attempt to transfer more than 200.000 in a single transaction."
   ]
  },
  {
   "cell_type": "code",
   "execution_count": 3,
   "id": "28bb63f1",
   "metadata": {},
   "outputs": [
    {
     "data": {
      "text/html": [
       "<div>\n",
       "<style scoped>\n",
       "    .dataframe tbody tr th:only-of-type {\n",
       "        vertical-align: middle;\n",
       "    }\n",
       "\n",
       "    .dataframe tbody tr th {\n",
       "        vertical-align: top;\n",
       "    }\n",
       "\n",
       "    .dataframe thead th {\n",
       "        text-align: right;\n",
       "    }\n",
       "</style>\n",
       "<table border=\"1\" class=\"dataframe\">\n",
       "  <thead>\n",
       "    <tr style=\"text-align: right;\">\n",
       "      <th></th>\n",
       "      <th>step</th>\n",
       "      <th>type</th>\n",
       "      <th>amount</th>\n",
       "      <th>nameOrig</th>\n",
       "      <th>oldbalanceOrg</th>\n",
       "      <th>newbalanceOrig</th>\n",
       "      <th>nameDest</th>\n",
       "      <th>oldbalanceDest</th>\n",
       "      <th>newbalanceDest</th>\n",
       "      <th>isFraud</th>\n",
       "      <th>isFlaggedFraud</th>\n",
       "    </tr>\n",
       "  </thead>\n",
       "  <tbody>\n",
       "    <tr>\n",
       "      <th>0</th>\n",
       "      <td>1</td>\n",
       "      <td>PAYMENT</td>\n",
       "      <td>9839.64</td>\n",
       "      <td>C1231006815</td>\n",
       "      <td>170136.0</td>\n",
       "      <td>160296.36</td>\n",
       "      <td>M1979787155</td>\n",
       "      <td>0.0</td>\n",
       "      <td>0.0</td>\n",
       "      <td>0</td>\n",
       "      <td>0</td>\n",
       "    </tr>\n",
       "    <tr>\n",
       "      <th>1</th>\n",
       "      <td>1</td>\n",
       "      <td>PAYMENT</td>\n",
       "      <td>1864.28</td>\n",
       "      <td>C1666544295</td>\n",
       "      <td>21249.0</td>\n",
       "      <td>19384.72</td>\n",
       "      <td>M2044282225</td>\n",
       "      <td>0.0</td>\n",
       "      <td>0.0</td>\n",
       "      <td>0</td>\n",
       "      <td>0</td>\n",
       "    </tr>\n",
       "    <tr>\n",
       "      <th>2</th>\n",
       "      <td>1</td>\n",
       "      <td>TRANSFER</td>\n",
       "      <td>181.00</td>\n",
       "      <td>C1305486145</td>\n",
       "      <td>181.0</td>\n",
       "      <td>0.00</td>\n",
       "      <td>C553264065</td>\n",
       "      <td>0.0</td>\n",
       "      <td>0.0</td>\n",
       "      <td>1</td>\n",
       "      <td>0</td>\n",
       "    </tr>\n",
       "    <tr>\n",
       "      <th>3</th>\n",
       "      <td>1</td>\n",
       "      <td>CASH_OUT</td>\n",
       "      <td>181.00</td>\n",
       "      <td>C840083671</td>\n",
       "      <td>181.0</td>\n",
       "      <td>0.00</td>\n",
       "      <td>C38997010</td>\n",
       "      <td>21182.0</td>\n",
       "      <td>0.0</td>\n",
       "      <td>1</td>\n",
       "      <td>0</td>\n",
       "    </tr>\n",
       "    <tr>\n",
       "      <th>4</th>\n",
       "      <td>1</td>\n",
       "      <td>PAYMENT</td>\n",
       "      <td>11668.14</td>\n",
       "      <td>C2048537720</td>\n",
       "      <td>41554.0</td>\n",
       "      <td>29885.86</td>\n",
       "      <td>M1230701703</td>\n",
       "      <td>0.0</td>\n",
       "      <td>0.0</td>\n",
       "      <td>0</td>\n",
       "      <td>0</td>\n",
       "    </tr>\n",
       "  </tbody>\n",
       "</table>\n",
       "</div>"
      ],
      "text/plain": [
       "   step      type    amount     nameOrig  oldbalanceOrg  newbalanceOrig  \\\n",
       "0     1   PAYMENT   9839.64  C1231006815       170136.0       160296.36   \n",
       "1     1   PAYMENT   1864.28  C1666544295        21249.0        19384.72   \n",
       "2     1  TRANSFER    181.00  C1305486145          181.0            0.00   \n",
       "3     1  CASH_OUT    181.00   C840083671          181.0            0.00   \n",
       "4     1   PAYMENT  11668.14  C2048537720        41554.0        29885.86   \n",
       "\n",
       "      nameDest  oldbalanceDest  newbalanceDest  isFraud  isFlaggedFraud  \n",
       "0  M1979787155             0.0             0.0        0               0  \n",
       "1  M2044282225             0.0             0.0        0               0  \n",
       "2   C553264065             0.0             0.0        1               0  \n",
       "3    C38997010         21182.0             0.0        1               0  \n",
       "4  M1230701703             0.0             0.0        0               0  "
      ]
     },
     "execution_count": 3,
     "metadata": {},
     "output_type": "execute_result"
    }
   ],
   "source": [
    "raw_data.head()"
   ]
  },
  {
   "cell_type": "code",
   "execution_count": 4,
   "id": "184eb84d",
   "metadata": {},
   "outputs": [
    {
     "name": "stdout",
     "output_type": "stream",
     "text": [
      "<class 'pandas.core.frame.DataFrame'>\n",
      "RangeIndex: 6362620 entries, 0 to 6362619\n",
      "Data columns (total 11 columns):\n",
      " #   Column          Non-Null Count    Dtype  \n",
      "---  ------          --------------    -----  \n",
      " 0   step            6362620 non-null  int64  \n",
      " 1   type            6362620 non-null  object \n",
      " 2   amount          6362620 non-null  float64\n",
      " 3   nameOrig        6362620 non-null  object \n",
      " 4   oldbalanceOrg   6362620 non-null  float64\n",
      " 5   newbalanceOrig  6362620 non-null  float64\n",
      " 6   nameDest        6362620 non-null  object \n",
      " 7   oldbalanceDest  6362620 non-null  float64\n",
      " 8   newbalanceDest  6362620 non-null  float64\n",
      " 9   isFraud         6362620 non-null  int64  \n",
      " 10  isFlaggedFraud  6362620 non-null  int64  \n",
      "dtypes: float64(5), int64(3), object(3)\n",
      "memory usage: 534.0+ MB\n"
     ]
    }
   ],
   "source": [
    "raw_data.info(verbose = True, show_counts=True)"
   ]
  },
  {
   "cell_type": "code",
   "execution_count": 5,
   "id": "0b12ea6f",
   "metadata": {},
   "outputs": [
    {
     "data": {
      "text/html": [
       "<div>\n",
       "<style scoped>\n",
       "    .dataframe tbody tr th:only-of-type {\n",
       "        vertical-align: middle;\n",
       "    }\n",
       "\n",
       "    .dataframe tbody tr th {\n",
       "        vertical-align: top;\n",
       "    }\n",
       "\n",
       "    .dataframe thead th {\n",
       "        text-align: right;\n",
       "    }\n",
       "</style>\n",
       "<table border=\"1\" class=\"dataframe\">\n",
       "  <thead>\n",
       "    <tr style=\"text-align: right;\">\n",
       "      <th></th>\n",
       "      <th>step</th>\n",
       "      <th>amount</th>\n",
       "      <th>oldbalanceOrg</th>\n",
       "      <th>newbalanceOrig</th>\n",
       "      <th>oldbalanceDest</th>\n",
       "      <th>newbalanceDest</th>\n",
       "      <th>isFraud</th>\n",
       "      <th>isFlaggedFraud</th>\n",
       "    </tr>\n",
       "  </thead>\n",
       "  <tbody>\n",
       "    <tr>\n",
       "      <th>count</th>\n",
       "      <td>6362620.00000</td>\n",
       "      <td>6362620.00000</td>\n",
       "      <td>6362620.00000</td>\n",
       "      <td>6362620.00000</td>\n",
       "      <td>6362620.00000</td>\n",
       "      <td>6362620.00000</td>\n",
       "      <td>6362620.00000</td>\n",
       "      <td>6362620.00000</td>\n",
       "    </tr>\n",
       "    <tr>\n",
       "      <th>mean</th>\n",
       "      <td>243.39725</td>\n",
       "      <td>179861.90355</td>\n",
       "      <td>833883.10407</td>\n",
       "      <td>855113.66858</td>\n",
       "      <td>1100701.66652</td>\n",
       "      <td>1224996.39820</td>\n",
       "      <td>0.00129</td>\n",
       "      <td>0.00000</td>\n",
       "    </tr>\n",
       "    <tr>\n",
       "      <th>std</th>\n",
       "      <td>142.33197</td>\n",
       "      <td>603858.23146</td>\n",
       "      <td>2888242.67301</td>\n",
       "      <td>2924048.50297</td>\n",
       "      <td>3399180.11297</td>\n",
       "      <td>3674128.94209</td>\n",
       "      <td>0.03590</td>\n",
       "      <td>0.00159</td>\n",
       "    </tr>\n",
       "    <tr>\n",
       "      <th>min</th>\n",
       "      <td>1.00000</td>\n",
       "      <td>0.00000</td>\n",
       "      <td>0.00000</td>\n",
       "      <td>0.00000</td>\n",
       "      <td>0.00000</td>\n",
       "      <td>0.00000</td>\n",
       "      <td>0.00000</td>\n",
       "      <td>0.00000</td>\n",
       "    </tr>\n",
       "    <tr>\n",
       "      <th>25%</th>\n",
       "      <td>156.00000</td>\n",
       "      <td>13389.57000</td>\n",
       "      <td>0.00000</td>\n",
       "      <td>0.00000</td>\n",
       "      <td>0.00000</td>\n",
       "      <td>0.00000</td>\n",
       "      <td>0.00000</td>\n",
       "      <td>0.00000</td>\n",
       "    </tr>\n",
       "    <tr>\n",
       "      <th>50%</th>\n",
       "      <td>239.00000</td>\n",
       "      <td>74871.94000</td>\n",
       "      <td>14208.00000</td>\n",
       "      <td>0.00000</td>\n",
       "      <td>132705.66500</td>\n",
       "      <td>214661.44000</td>\n",
       "      <td>0.00000</td>\n",
       "      <td>0.00000</td>\n",
       "    </tr>\n",
       "    <tr>\n",
       "      <th>75%</th>\n",
       "      <td>335.00000</td>\n",
       "      <td>208721.47750</td>\n",
       "      <td>107315.17500</td>\n",
       "      <td>144258.41000</td>\n",
       "      <td>943036.70750</td>\n",
       "      <td>1111909.25000</td>\n",
       "      <td>0.00000</td>\n",
       "      <td>0.00000</td>\n",
       "    </tr>\n",
       "    <tr>\n",
       "      <th>max</th>\n",
       "      <td>743.00000</td>\n",
       "      <td>92445516.64000</td>\n",
       "      <td>59585040.37000</td>\n",
       "      <td>49585040.37000</td>\n",
       "      <td>356015889.35000</td>\n",
       "      <td>356179278.92000</td>\n",
       "      <td>1.00000</td>\n",
       "      <td>1.00000</td>\n",
       "    </tr>\n",
       "  </tbody>\n",
       "</table>\n",
       "</div>"
      ],
      "text/plain": [
       "                step          amount   oldbalanceOrg  newbalanceOrig  \\\n",
       "count  6362620.00000   6362620.00000   6362620.00000   6362620.00000   \n",
       "mean       243.39725    179861.90355    833883.10407    855113.66858   \n",
       "std        142.33197    603858.23146   2888242.67301   2924048.50297   \n",
       "min          1.00000         0.00000         0.00000         0.00000   \n",
       "25%        156.00000     13389.57000         0.00000         0.00000   \n",
       "50%        239.00000     74871.94000     14208.00000         0.00000   \n",
       "75%        335.00000    208721.47750    107315.17500    144258.41000   \n",
       "max        743.00000  92445516.64000  59585040.37000  49585040.37000   \n",
       "\n",
       "        oldbalanceDest   newbalanceDest        isFraud isFlaggedFraud  \n",
       "count    6362620.00000    6362620.00000  6362620.00000  6362620.00000  \n",
       "mean     1100701.66652    1224996.39820        0.00129        0.00000  \n",
       "std      3399180.11297    3674128.94209        0.03590        0.00159  \n",
       "min            0.00000          0.00000        0.00000        0.00000  \n",
       "25%            0.00000          0.00000        0.00000        0.00000  \n",
       "50%       132705.66500     214661.44000        0.00000        0.00000  \n",
       "75%       943036.70750    1111909.25000        0.00000        0.00000  \n",
       "max    356015889.35000  356179278.92000        1.00000        1.00000  "
      ]
     },
     "execution_count": 5,
     "metadata": {},
     "output_type": "execute_result"
    }
   ],
   "source": [
    "raw_data.describe().apply(lambda s: s.apply('{0:.5f}'.format))"
   ]
  },
  {
   "cell_type": "markdown",
   "id": "09a72c9d",
   "metadata": {},
   "source": [
    "### Conclusions:\n",
    "- the dataset consists of 6 362 620 transactions and 11 columns\n",
    "- $isFraud$ is the target value\n",
    "- there are no missig values\n",
    "- both numeric and categorical variable are present \n"
   ]
  },
  {
   "cell_type": "code",
   "execution_count": 6,
   "id": "2b1e9663",
   "metadata": {},
   "outputs": [
    {
     "data": {
      "text/html": [
       "<div>\n",
       "<style scoped>\n",
       "    .dataframe tbody tr th:only-of-type {\n",
       "        vertical-align: middle;\n",
       "    }\n",
       "\n",
       "    .dataframe tbody tr th {\n",
       "        vertical-align: top;\n",
       "    }\n",
       "\n",
       "    .dataframe thead th {\n",
       "        text-align: right;\n",
       "    }\n",
       "</style>\n",
       "<table border=\"1\" class=\"dataframe\">\n",
       "  <thead>\n",
       "    <tr style=\"text-align: right;\">\n",
       "      <th></th>\n",
       "      <th>Outlier_percentage</th>\n",
       "    </tr>\n",
       "  </thead>\n",
       "  <tbody>\n",
       "    <tr>\n",
       "      <th>oldbalanceOrg</th>\n",
       "      <td>17.485045</td>\n",
       "    </tr>\n",
       "    <tr>\n",
       "      <th>newbalanceOrig</th>\n",
       "      <td>16.555931</td>\n",
       "    </tr>\n",
       "    <tr>\n",
       "      <th>oldbalanceDest</th>\n",
       "      <td>12.355523</td>\n",
       "    </tr>\n",
       "    <tr>\n",
       "      <th>newbalanceDest</th>\n",
       "      <td>11.607278</td>\n",
       "    </tr>\n",
       "    <tr>\n",
       "      <th>amount</th>\n",
       "      <td>5.313503</td>\n",
       "    </tr>\n",
       "    <tr>\n",
       "      <th>step</th>\n",
       "      <td>1.613926</td>\n",
       "    </tr>\n",
       "    <tr>\n",
       "      <th>isFraud</th>\n",
       "      <td>0.129082</td>\n",
       "    </tr>\n",
       "    <tr>\n",
       "      <th>isFlaggedFraud</th>\n",
       "      <td>0.000251</td>\n",
       "    </tr>\n",
       "  </tbody>\n",
       "</table>\n",
       "</div>"
      ],
      "text/plain": [
       "                Outlier_percentage\n",
       "oldbalanceOrg            17.485045\n",
       "newbalanceOrig           16.555931\n",
       "oldbalanceDest           12.355523\n",
       "newbalanceDest           11.607278\n",
       "amount                    5.313503\n",
       "step                      1.613926\n",
       "isFraud                   0.129082\n",
       "isFlaggedFraud            0.000251"
      ]
     },
     "execution_count": 6,
     "metadata": {},
     "output_type": "execute_result"
    }
   ],
   "source": [
    "def detect_outliers(data):\n",
    "    outlier_percents = {}\n",
    "    for column in data.columns:\n",
    "        if data[column].dtype != object:\n",
    "            q1 = np.quantile(data[column], 0.25)\n",
    "            q3 = np.quantile(data[column], 0.75)\n",
    "            iqr = q3 - q1\n",
    "            upper_bound = q3 + (1.5 * iqr)\n",
    "            lower_bound = q1 - (1.5 * iqr)\n",
    "            outliers = data[(data[column] > upper_bound) | (data[column] < lower_bound)][column]\n",
    "            outlier_percentage = len(outliers) / len(data[column]) * 100\n",
    "            outlier_percents[column] = outlier_percentage\n",
    "            outlier_dataframe = pd.DataFrame(data = outlier_percents.values() ,index=outlier_percents.keys() ,columns=['Outlier_percentage'])\n",
    "    \n",
    "    return outlier_dataframe.sort_values(by = 'Outlier_percentage', ascending = False)\n",
    "\n",
    "detect_outliers(raw_data)"
   ]
  },
  {
   "cell_type": "code",
   "execution_count": 7,
   "id": "c0b96066",
   "metadata": {},
   "outputs": [
    {
     "data": {
      "text/plain": [
       "0    0.998709\n",
       "1    0.001291\n",
       "Name: isFraud, dtype: float64"
      ]
     },
     "execution_count": 7,
     "metadata": {},
     "output_type": "execute_result"
    }
   ],
   "source": [
    "raw_data.isFraud.value_counts(normalize=True)"
   ]
  },
  {
   "cell_type": "markdown",
   "id": "80bd9c60",
   "metadata": {},
   "source": [
    "### Conclusions:\n",
    "- there is much more not fraud cases -> we will need to check closer the accuracy metrix for the fraud class. \n",
    "\n",
    "Only by predicting all transactions as non fraud -> the accuracy will be over 0,99!"
   ]
  },
  {
   "cell_type": "code",
   "execution_count": 8,
   "id": "6b900058",
   "metadata": {},
   "outputs": [
    {
     "data": {
      "image/png": "[encoded data removed]",
      "text/plain": [
       "<Figure size 1440x1440 with 1 Axes>"
      ]
     },
     "metadata": {
      "needs_background": "light"
     },
     "output_type": "display_data"
    }
   ],
   "source": [
    "features = [\n",
    "    'step', 'type', 'amount', 'nameOrig','oldbalanceOrg', 'newbalanceOrig', 'nameDest', 'oldbalanceDest',\n",
    "    'newbalanceDest', 'isFlaggedFraud', 'isFraud'\n",
    "]\n",
    "\n",
    "correlation_matrix = raw_data[features].corr(method=\"spearman\") # pearson / spearman\n",
    "\n",
    "#from matplotlib.colors import SymLogNorm\n",
    "\n",
    "f, ax = plt.subplots(figsize=(20, 20))\n",
    "_ = sns.heatmap(\n",
    "    correlation_matrix, \n",
    "    mask=np.triu(np.ones_like(correlation_matrix, dtype=bool)), \n",
    "    cmap=sns.diverging_palette(230, 20, as_cmap=True), \n",
    "    center=0,\n",
    "    square=True, \n",
    "    linewidths=.1, \n",
    "    cbar=False,\n",
    "    ax=ax,\n",
    "    annot=True,\n",
    ")\n",
    "_ = ax.set_title(\"Correlation Matrix\", fontsize=15)"
   ]
  },
  {
   "cell_type": "markdown",
   "id": "dd504ee5",
   "metadata": {},
   "source": [
    "Note:\n",
    "The Spearman correlation between two variables is equal to the Pearson correlation between the rank values of those two variables; while Pearson's correlation assesses linear relationships, Spearman's correlation assesses monotonic relationships (whether linear or not). If there are no repeated data values, a perfect Spearman correlation of +1 or −1 occurs when each of the variables is a perfect monotone function of the other."
   ]
  },
  {
   "cell_type": "markdown",
   "id": "0121f486",
   "metadata": {},
   "source": [
    "### Conclusions:\n",
    "- there are two pars of features which show very high correlation: $oldbalanceOrg$ with $newbalanceOrig$ and $oldbalanceDest$ with $newbalanceDest$. Both are unsuprising.\n",
    "- there is no strong correlation between target $isFraud$ and any of the other features. (same for both methods pearson and spearman correlation) "
   ]
  },
  {
   "cell_type": "code",
   "execution_count": 15,
   "id": "ea74346f",
   "metadata": {},
   "outputs": [
    {
     "data": {
      "text/plain": [
       "Text(0.5, 1.0, 'Type')"
      ]
     },
     "execution_count": 15,
     "metadata": {},
     "output_type": "execute_result"
    },
    {
     "data": {
      "image/png": "[encoded data removed]",
      "text/plain": [
       "<Figure size 432x288 with 1 Axes>"
      ]
     },
     "metadata": {
      "needs_background": "light"
     },
     "output_type": "display_data"
    }
   ],
   "source": [
    "df = raw_data[raw_data['isFraud'] == 1]\n",
    "\n",
    "fig,ax=plt.subplots()\n",
    "sns.countplot(x='type',data=raw_data, color=\"darksalmon\").set_title('Type',size=15)\n",
    "\n",
    "\n",
    "#sns.violinplot(data=df, x=\"amount\", y=\"isFraud\", ax=ax)"
   ]
  },
  {
   "cell_type": "code",
   "execution_count": 10,
   "id": "e800637b",
   "metadata": {},
   "outputs": [
    {
     "name": "stdout",
     "output_type": "stream",
     "text": [
      "a\n"
     ]
    }
   ],
   "source": [
    "print('a')"
   ]
  },
  {
   "cell_type": "code",
   "execution_count": null,
   "id": "ecdf326d",
   "metadata": {},
   "outputs": [],
   "source": []
  },
  {
   "cell_type": "code",
   "execution_count": null,
   "id": "2d0e886e",
   "metadata": {},
   "outputs": [],
   "source": []
  }
 ],
 "metadata": {
  "kernelspec": {
   "display_name": "Python 3 (ipykernel)",
   "language": "python",
   "name": "python3"
  },
  "language_info": {
   "codemirror_mode": {
    "name": "ipython",
    "version": 3
   },
   "file_extension": ".py",
   "mimetype": "text/x-python",
   "name": "python",
   "nbconvert_exporter": "python",
   "pygments_lexer": "ipython3",
   "version": "3.9.12"
  }
 },
 "nbformat": 4,
 "nbformat_minor": 5
}
